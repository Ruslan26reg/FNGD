{
 "cells": [
  {
   "cell_type": "code",
   "execution_count": 1,
   "id": "15898d07",
   "metadata": {},
   "outputs": [],
   "source": [
    "from tensorflow import keras\n",
    "import tensorflow as tf \n",
    "# Common imports\n",
    "import os\n",
    "import matplotlib.image as mpimg\n",
    "import itertools\n",
    "import seaborn as sns\n",
    "\n",
    "from tensorflow.python.keras.models import Sequential\n",
    "from tensorflow.python.keras.layers import Conv2D, MaxPooling2D, Dropout, Flatten, Dense\n",
    "import matplotlib.pyplot as plt\n",
    "import matplotlib.image as mpimg\n",
    "import itertools\n",
    "\n",
    "from tensorflow.python.framework import ops\n",
    "from tensorflow.python.keras import backend_config\n",
    "from tensorflow.python.keras.optimizer_v2 import learning_rate_schedule\n",
    "from tensorflow.python.keras.optimizer_v2 import optimizer_v2\n",
    "from tensorflow.python.ops import array_ops\n",
    "from tensorflow.python.ops import control_flow_ops\n",
    "from tensorflow.python.ops import math_ops\n",
    "from tensorflow.python.ops import state_ops\n",
    "from tensorflow.python.ops import variables as tf_variables\n",
    "from tensorflow.python.util.tf_export import keras_export\n",
    "\n",
    "import scipy\n",
    "import numpy as np"
   ]
  },
  {
   "cell_type": "code",
   "execution_count": 2,
   "id": "2869fb19",
   "metadata": {},
   "outputs": [],
   "source": [
    "def parameter(n):\n",
    "    alpha = []\n",
    "    for i in range(n):\n",
    "    \talpha.append(4.8 + 0.005**(i+1)) #0.8 \n",
    "    return alpha\n",
    "\n",
    "def parameter1(n):\n",
    "    alpha = []\n",
    "    for i in range(n):\n",
    "        alpha.append(1.4 - 0.005**(i+1)) # 0.8\n",
    "    beta = []\n",
    "    for i in range(n):\n",
    "        beta.append(0.9 - 0.005**(i+1)) #0.8\n",
    "    return alpha, beta\n",
    "\n",
    "def summation(n):\n",
    "    summ = 0\n",
    "    alpha = parameter(n)\n",
    "    for i in range(n):\n",
    "        summ += alpha[i]\n",
    "    return summ\n",
    "\n",
    "def Fisher(n):\n",
    "    FIM = []\n",
    "    alpha = parameter(n)\n",
    "    for i in range(n):\n",
    "        Row = []\n",
    "        for j in range(n):\n",
    "            if i == j: \n",
    "                Row.append(special.polygamma(1, alpha[i]) - special.polygamma(1, summation(n)))\n",
    "            else:\n",
    "                Row.append(- special.polygamma(1, summation(n)))\n",
    "        FIM.append(Row)\n",
    "    FIM = numpy.array(FIM)\n",
    "    FIM = numpy.linalg.inv(FIM)\n",
    "    return FIM\n",
    "\n",
    "def Fisher2(n):\n",
    "    FIM = []\n",
    "    for i in range(n):\n",
    "        Zero = []\n",
    "        for j in range(n):\n",
    "            Zero.append(0)\n",
    "        FIM.append(Zero)\n",
    "    alpha, beta = parameter1(n)\n",
    "    for i in range(0,n,2):\n",
    "        FIM[i][i] = special.polygamma(1, alpha[i]) - special.polygamma(1, alpha[i]+beta[i])\n",
    "        FIM[i+1][i] = - special.polygamma(1, alpha[i]+beta[i])\n",
    "        FIM[i][i+1] = - special.polygamma(1, alpha[i]+beta[i])\n",
    "        FIM[i+1][i+1] = special.polygamma(1, beta[i]) - special.polygamma(1, alpha[i]+beta[i])\n",
    "    FIM = numpy.array(FIM)\n",
    "    FIM = numpy.linalg.inv(FIM)\n",
    "    return FIM"
   ]
  },
  {
   "cell_type": "code",
   "execution_count": 3,
   "id": "47aa37eb",
   "metadata": {},
   "outputs": [],
   "source": [
    "def Grunwald_Letnikov_derivative(gradient, h, alpha, kappa, variable):\n",
    "    GL_gradient = np.array([])\n",
    "    for i in range(len(gradient)):\n",
    "        summ = 0\n",
    "        for j in range(len(gradient)):\n",
    "            summ += (-1)**k * scipy.special.gamma(alpha+1)*variable[j]/(scipy.special.gamma(kappa+1)*scipy.special.gamma(alpha-kappa+1))\n",
    "        GL_gradient.append(\n",
    "            1/h**alpha * summ\n",
    "        ) \n",
    "    return GL_gradient"
   ]
  },
  {
   "cell_type": "code",
   "execution_count": 4,
   "id": "e0d723c7",
   "metadata": {},
   "outputs": [],
   "source": [
    "class GLFGD(optimizer_v2.OptimizerV2):\n",
    "  _HAS_AGGREGATE_GRAD = True\n",
    "\n",
    "  def __init__(self,\n",
    "               learning_rate=0.01,\n",
    "               momentum=0.0,\n",
    "               nesterov=False,\n",
    "               name=\"GLFGD\",\n",
    "               **kwargs):\n",
    "    super(GLFGD, self).__init__(name, **kwargs)\n",
    "    self._set_hyper(\"learning_rate\", kwargs.get(\"lr\", learning_rate))\n",
    "    self._set_hyper(\"decay\", self._initial_decay)\n",
    "\n",
    "    self._momentum = False\n",
    "    if isinstance(momentum, tf.Tensor) or callable(momentum) or momentum > 0:\n",
    "      self._momentum = True\n",
    "    if isinstance(momentum, (int, float)) and (momentum < 0 or momentum > 1):\n",
    "      raise ValueError(f\"`momentum` must be between [0, 1]. Received: \"\n",
    "                       f\"momentum={momentum} (of type {type(momentum)}).\")\n",
    "    self._set_hyper(\"momentum\", momentum)\n",
    "\n",
    "    self.nesterov = nesterov\n",
    "\n",
    "  def _create_slots(self, var_list):\n",
    "    if self._momentum:\n",
    "      for var in var_list:\n",
    "        self.add_slot(var, \"momentum\")\n",
    "\n",
    "  def _prepare_local(self, var_device, var_dtype, apply_state):\n",
    "    super(GLFGD, self)._prepare_local(var_device, var_dtype, apply_state)\n",
    "    apply_state[(var_device, var_dtype)][\"momentum\"] = tf.identity(\n",
    "        self._get_hyper(\"momentum\", var_dtype))\n",
    "\n",
    "  def _resource_apply_dense(self, grad, var, apply_state=None):\n",
    "    var_device, var_dtype = var.device, var.dtype.base_dtype\n",
    "    coefficients = ((apply_state or {}).get((var_device, var_dtype))\n",
    "                    or self._fallback_apply_state(var_device, var_dtype))\n",
    "\n",
    "    if self._momentum:\n",
    "      momentum_var = self.get_slot(var, \"momentum\")\n",
    "      return tf.raw_ops.ResourceApplyKerasMomentum(\n",
    "          var=var.handle,\n",
    "          accum=momentum_var.handle,\n",
    "          lr=coefficients[\"lr_t\"],\n",
    "          grad=grad,\n",
    "          momentum=coefficients[\"momentum\"],\n",
    "          use_locking=self._use_locking,\n",
    "          use_nesterov=self.nesterov)\n",
    "    else:\n",
    "      return tf.raw_ops.ResourceApplyGradientDescent(\n",
    "          var=var.handle,\n",
    "          alpha=coefficients[\"lr_t\"],\n",
    "          delta=grad,\n",
    "          use_locking=self._use_locking)\n",
    "\n",
    "  def _resource_apply_sparse_duplicate_indices(self, grad, var, indices,\n",
    "                                               **kwargs):\n",
    "    if self._momentum:\n",
    "      return super(GLFGD, self)._resource_apply_sparse_duplicate_indices(\n",
    "          grad, var, indices, **kwargs)\n",
    "    else:\n",
    "      var_device, var_dtype = var.device, var.dtype.base_dtype\n",
    "      coefficients = (kwargs.get(\"apply_state\", {}).get((var_device, var_dtype))\n",
    "                      or self._fallback_apply_state(var_device, var_dtype))\n",
    "\n",
    "      return tf.raw_ops.ResourceScatterAdd(\n",
    "          resource=var.handle,\n",
    "          indices=indices,\n",
    "          #updates=-Grunwald_Letnikov_derivative(grad, 0.01, 6.8, 4, var) * coefficients[\"lr_t\"])\n",
    "          updates=np.dot(Fisher(len(grad)),Grunwald_Letnikov_derivative(grad, 0.001, 0.5, 0.8, var).transpose()) * coefficients[\"lr_t\"])          \n",
    "          #updates=-grad * coefficients[\"lr_t\"])\n",
    "\n",
    "  def _resource_apply_sparse(self, grad, var, indices, apply_state=None):\n",
    "    # This method is only needed for momentum optimization.\n",
    "    var_device, var_dtype = var.device, var.dtype.base_dtype\n",
    "    coefficients = ((apply_state or {}).get((var_device, var_dtype))\n",
    "                    or self._fallback_apply_state(var_device, var_dtype))\n",
    "\n",
    "    momentum_var = self.get_slot(var, \"momentum\")\n",
    "    return tf.raw_ops.ResourceSparseApplyKerasMomentum(\n",
    "        var=var.handle,\n",
    "        accum=momentum_var.handle,\n",
    "        lr=coefficients[\"lr_t\"],\n",
    "        grad=grad,\n",
    "        indices=indices,\n",
    "        momentum=coefficients[\"momentum\"],\n",
    "        use_locking=self._use_locking,\n",
    "        use_nesterov=self.nesterov)\n",
    "\n",
    "  def get_config(self):\n",
    "    config = super(GLFGD, self).get_config()\n",
    "    config.update({\n",
    "        \"learning_rate\": self._serialize_hyperparameter(\"learning_rate\"),\n",
    "        \"decay\": self._initial_decay,\n",
    "        \"momentum\": self._serialize_hyperparameter(\"momentum\"),\n",
    "        \"nesterov\": self.nesterov,\n",
    "    })\n",
    "    return config"
   ]
  },
  {
   "cell_type": "code",
   "execution_count": 5,
   "id": "c45fa9dc",
   "metadata": {},
   "outputs": [],
   "source": [
    "cifar10 = tf.keras.datasets.cifar10\n",
    "(x_train, y_train), (x_test, y_test) = cifar10.load_data()"
   ]
  },
  {
   "cell_type": "code",
   "execution_count": 6,
   "id": "7aab0741",
   "metadata": {},
   "outputs": [],
   "source": [
    "y_train = y_train.flatten()\n",
    "y_test = y_test.flatten()"
   ]
  },
  {
   "cell_type": "code",
   "execution_count": 7,
   "id": "7a2c60e0",
   "metadata": {},
   "outputs": [
    {
     "name": "stderr",
     "output_type": "stream",
     "text": [
      "C:\\Users\\pliak\\anaconda3\\lib\\site-packages\\seaborn\\_decorators.py:36: FutureWarning: Pass the following variable as a keyword arg: x. From version 0.12, the only valid positional argument will be `data`, and passing other arguments without an explicit keyword will result in an error or misinterpretation.\n",
      "  warnings.warn(\n"
     ]
    },
    {
     "data": {
      "text/plain": [
       "[[Text(0, 0, 'airplane'),\n",
       "  Text(1, 0, 'automobile'),\n",
       "  Text(2, 0, 'bird'),\n",
       "  Text(3, 0, 'cat'),\n",
       "  Text(4, 0, 'deer'),\n",
       "  Text(5, 0, 'dog'),\n",
       "  Text(6, 0, 'frog'),\n",
       "  Text(7, 0, 'horse'),\n",
       "  Text(8, 0, 'ship'),\n",
       "  Text(9, 0, 'truck')]]"
      ]
     },
     "execution_count": 7,
     "metadata": {},
     "output_type": "execute_result"
    },
    {
     "data": {
      "image/png": "[encoded data removed]",
      "text/plain": [
       "<Figure size 720x504 with 1 Axes>"
      ]
     },
     "metadata": {
      "needs_background": "light"
     },
     "output_type": "display_data"
    }
   ],
   "source": [
    "classes = ['airplane', 'automobile', 'bird', 'cat', 'deer', 'dog', 'frog', 'horse', 'ship', 'truck']\n",
    "plt.figure(figsize=(10,7))\n",
    "p = sns.countplot(y_train.flatten())\n",
    "p.set(xticklabels=classes)"
   ]
  },
  {
   "cell_type": "code",
   "execution_count": 8,
   "id": "8a586fa5",
   "metadata": {},
   "outputs": [],
   "source": [
    "input_shape = (32, 32, 3)\n",
    "\n",
    "x_train=x_train.reshape(x_train.shape[0], x_train.shape[1], x_train.shape[2], 3)\n",
    "x_train=x_train / 255.0\n",
    "x_test = x_test.reshape(x_test.shape[0], x_test.shape[1], x_test.shape[2], 3)\n",
    "x_test=x_test / 255.0\n",
    "\n",
    "y_train = tf.one_hot(y_train.astype(np.int32), depth=10)\n",
    "y_test = tf.one_hot(y_test.astype(np.int32), depth=10)"
   ]
  },
  {
   "cell_type": "code",
   "execution_count": 9,
   "id": "ffebec77",
   "metadata": {},
   "outputs": [],
   "source": [
    "batch_size = 32\n",
    "num_classes = 10\n",
    "epochs = 20"
   ]
  },
  {
   "cell_type": "code",
   "execution_count": 10,
   "id": "884b204d",
   "metadata": {},
   "outputs": [
    {
     "name": "stdout",
     "output_type": "stream",
     "text": [
      "Epoch 1/20\n",
      "1563/1563 [==============================] - 97s 62ms/step - loss: 1.7368 - accuracy: 0.3559 - val_loss: 1.3083 - val_accuracy: 0.5270\n",
      "Epoch 2/20\n",
      "1563/1563 [==============================] - 105s 67ms/step - loss: 1.2757 - accuracy: 0.5404 - val_loss: 1.1030 - val_accuracy: 0.6171\n",
      "Epoch 3/20\n",
      "1563/1563 [==============================] - 93s 60ms/step - loss: 1.0904 - accuracy: 0.6138 - val_loss: 0.9328 - val_accuracy: 0.6726\n",
      "Epoch 4/20\n",
      "1563/1563 [==============================] - 93s 59ms/step - loss: 0.9693 - accuracy: 0.6575 - val_loss: 0.8890 - val_accuracy: 0.6891\n",
      "Epoch 5/20\n",
      "1563/1563 [==============================] - 94s 60ms/step - loss: 0.8899 - accuracy: 0.6859 - val_loss: 0.8041 - val_accuracy: 0.7134\n",
      "Epoch 6/20\n",
      "1563/1563 [==============================] - 92s 59ms/step - loss: 0.8306 - accuracy: 0.7078 - val_loss: 0.7807 - val_accuracy: 0.7294\n",
      "Epoch 7/20\n",
      "1563/1563 [==============================] - 93s 60ms/step - loss: 0.7730 - accuracy: 0.7276 - val_loss: 0.7236 - val_accuracy: 0.7477\n",
      "Epoch 8/20\n",
      "1563/1563 [==============================] - 94s 60ms/step - loss: 0.7438 - accuracy: 0.7398 - val_loss: 0.7428 - val_accuracy: 0.7471\n",
      "Epoch 9/20\n",
      "1563/1563 [==============================] - 96s 61ms/step - loss: 0.7068 - accuracy: 0.7520 - val_loss: 0.7116 - val_accuracy: 0.7525\n",
      "Epoch 10/20\n",
      "1563/1563 [==============================] - 94s 60ms/step - loss: 0.6696 - accuracy: 0.7636 - val_loss: 0.6908 - val_accuracy: 0.7612\n",
      "Epoch 11/20\n",
      "1563/1563 [==============================] - 94s 60ms/step - loss: 0.6551 - accuracy: 0.7679 - val_loss: 0.6727 - val_accuracy: 0.7664\n",
      "Epoch 12/20\n",
      "1563/1563 [==============================] - 93s 59ms/step - loss: 0.6196 - accuracy: 0.7805 - val_loss: 0.6767 - val_accuracy: 0.7691\n",
      "Epoch 13/20\n",
      "1563/1563 [==============================] - 93s 60ms/step - loss: 0.6066 - accuracy: 0.7863 - val_loss: 0.6351 - val_accuracy: 0.7810\n",
      "Epoch 14/20\n",
      "1563/1563 [==============================] - 93s 59ms/step - loss: 0.5801 - accuracy: 0.7959 - val_loss: 0.6721 - val_accuracy: 0.7717\n",
      "Epoch 15/20\n",
      "1563/1563 [==============================] - 94s 60ms/step - loss: 0.5682 - accuracy: 0.8015 - val_loss: 0.6448 - val_accuracy: 0.7787\n",
      "Epoch 16/20\n",
      "1563/1563 [==============================] - 93s 59ms/step - loss: 0.5507 - accuracy: 0.8053 - val_loss: 0.6274 - val_accuracy: 0.7887\n",
      "Epoch 17/20\n",
      "1563/1563 [==============================] - 92s 59ms/step - loss: 0.5338 - accuracy: 0.8113 - val_loss: 0.6461 - val_accuracy: 0.7880\n",
      "Epoch 18/20\n",
      "1563/1563 [==============================] - 93s 60ms/step - loss: 0.5256 - accuracy: 0.8140 - val_loss: 0.6326 - val_accuracy: 0.7871\n",
      "Epoch 19/20\n",
      "1563/1563 [==============================] - 94s 60ms/step - loss: 0.5168 - accuracy: 0.8178 - val_loss: 0.6273 - val_accuracy: 0.7919\n",
      "Epoch 20/20\n",
      "1563/1563 [==============================] - 95s 61ms/step - loss: 0.5049 - accuracy: 0.8206 - val_loss: 0.6467 - val_accuracy: 0.7855\n"
     ]
    }
   ],
   "source": [
    "model = Sequential([\n",
    "    Conv2D(32, 3, padding='same', input_shape=x_train.shape[1:], activation='relu'),\n",
    "    Conv2D(32, 3, activation='relu'),\n",
    "    MaxPooling2D(),\n",
    "    Dropout(0.25),\n",
    "\n",
    "    Conv2D(64, 3, padding='same', activation='relu'),\n",
    "    Conv2D(64, 3, activation='relu'),\n",
    "    MaxPooling2D(),\n",
    "    Dropout(0.25),\n",
    "\n",
    "    Flatten(),\n",
    "    Dense(512, activation='relu'),\n",
    "    Dropout(0.5),\n",
    "    Dense(num_classes, activation='softmax'),\n",
    "])\n",
    "\n",
    "optimizer = GLFGD(learning_rate = 0.004, momentum = 0.94, nesterov = True)\n",
    "model.compile(optimizer=optimizer,\n",
    "              loss='categorical_crossentropy',\n",
    "              metrics=['accuracy'])\n",
    "\n",
    "history = model.fit(x_train, y_train, batch_size=batch_size,\n",
    "                    epochs=epochs, validation_data = (x_test, y_test))"
   ]
  },
  {
   "cell_type": "code",
   "execution_count": 11,
   "id": "afb65499",
   "metadata": {},
   "outputs": [
    {
     "ename": "NameError",
     "evalue": "name 'history1' is not defined",
     "output_type": "error",
     "traceback": [
      "\u001b[1;31m---------------------------------------------------------------------------\u001b[0m",
      "\u001b[1;31mNameError\u001b[0m                                 Traceback (most recent call last)",
      "\u001b[1;32m~\\AppData\\Local\\Temp/ipykernel_18464/1164975668.py\u001b[0m in \u001b[0;36m<module>\u001b[1;34m\u001b[0m\n\u001b[0;32m      1\u001b[0m \u001b[0mplt\u001b[0m\u001b[1;33m.\u001b[0m\u001b[0mplot\u001b[0m\u001b[1;33m(\u001b[0m\u001b[0mhistory\u001b[0m\u001b[1;33m.\u001b[0m\u001b[0mhistory\u001b[0m\u001b[1;33m[\u001b[0m\u001b[1;34m'val_accuracy'\u001b[0m\u001b[1;33m]\u001b[0m\u001b[1;33m)\u001b[0m\u001b[1;33m\u001b[0m\u001b[1;33m\u001b[0m\u001b[0m\n\u001b[1;32m----> 2\u001b[1;33m \u001b[0mplt\u001b[0m\u001b[1;33m.\u001b[0m\u001b[0mplot\u001b[0m\u001b[1;33m(\u001b[0m\u001b[0mhistory1\u001b[0m\u001b[1;33m.\u001b[0m\u001b[0mhistory\u001b[0m\u001b[1;33m[\u001b[0m\u001b[1;34m'val_accuracy'\u001b[0m\u001b[1;33m]\u001b[0m\u001b[1;33m)\u001b[0m\u001b[1;33m\u001b[0m\u001b[1;33m\u001b[0m\u001b[0m\n\u001b[0m\u001b[0;32m      3\u001b[0m \u001b[0mplt\u001b[0m\u001b[1;33m.\u001b[0m\u001b[0mplot\u001b[0m\u001b[1;33m(\u001b[0m\u001b[0mhistory2\u001b[0m\u001b[1;33m.\u001b[0m\u001b[0mhistory\u001b[0m\u001b[1;33m[\u001b[0m\u001b[1;34m'val_accuracy'\u001b[0m\u001b[1;33m]\u001b[0m\u001b[1;33m)\u001b[0m\u001b[1;33m\u001b[0m\u001b[1;33m\u001b[0m\u001b[0m\n\u001b[0;32m      4\u001b[0m \u001b[0mplt\u001b[0m\u001b[1;33m.\u001b[0m\u001b[0mplot\u001b[0m\u001b[1;33m(\u001b[0m\u001b[0mhistory3\u001b[0m\u001b[1;33m.\u001b[0m\u001b[0mhistory\u001b[0m\u001b[1;33m[\u001b[0m\u001b[1;34m'val_accuracy'\u001b[0m\u001b[1;33m]\u001b[0m\u001b[1;33m)\u001b[0m\u001b[1;33m\u001b[0m\u001b[1;33m\u001b[0m\u001b[0m\n\u001b[0;32m      5\u001b[0m \u001b[0mplt\u001b[0m\u001b[1;33m.\u001b[0m\u001b[0mplot\u001b[0m\u001b[1;33m(\u001b[0m\u001b[0mhistory4\u001b[0m\u001b[1;33m.\u001b[0m\u001b[0mhistory\u001b[0m\u001b[1;33m[\u001b[0m\u001b[1;34m'val_accuracy'\u001b[0m\u001b[1;33m]\u001b[0m\u001b[1;33m)\u001b[0m\u001b[1;33m\u001b[0m\u001b[1;33m\u001b[0m\u001b[0m\n",
      "\u001b[1;31mNameError\u001b[0m: name 'history1' is not defined"
     ]
    },
    {
     "data": {
      "image/png": "[encoded data removed]",
      "text/plain": [
       "<Figure size 432x288 with 1 Axes>"
      ]
     },
     "metadata": {
      "needs_background": "light"
     },
     "output_type": "display_data"
    }
   ],
   "source": [
    "plt.plot(history.history['val_accuracy'])\n",
    "plt.plot(history1.history['val_accuracy'])\n",
    "plt.plot(history2.history['val_accuracy'])\n",
    "plt.plot(history3.history['val_accuracy'])\n",
    "plt.plot(history4.history['val_accuracy'])\n",
    "plt.xlabel('Epochs',fontsize = 22)\n",
    "plt.ylabel('Accuracy',fontsize = 22)\n",
    "plt.xticks(fontsize=18)\n",
    "plt.yticks(fontsize=18)\n",
    "plt.legend(['GLFGD'], prop = {\"size\":20})\n",
    "plt.show()"
   ]
  },
  {
   "cell_type": "code",
   "execution_count": null,
   "id": "59e5d5f7",
   "metadata": {},
   "outputs": [],
   "source": []
  }
 ],
 "metadata": {
  "kernelspec": {
   "display_name": "Python 3 (ipykernel)",
   "language": "python",
   "name": "python3"
  },
  "language_info": {
   "codemirror_mode": {
    "name": "ipython",
    "version": 3
   },
   "file_extension": ".py",
   "mimetype": "text/x-python",
   "name": "python",
   "nbconvert_exporter": "python",
   "pygments_lexer": "ipython3",
   "version": "3.9.7"
  }
 },
 "nbformat": 4,
 "nbformat_minor": 5
}
