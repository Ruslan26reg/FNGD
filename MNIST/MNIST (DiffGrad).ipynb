{
 "cells": [
  {
   "cell_type": "code",
   "execution_count": 1,
   "id": "15898d07",
   "metadata": {},
   "outputs": [
    {
     "name": "stderr",
     "output_type": "stream",
     "text": [
      "2023-02-07 21:26:20.334216: W tensorflow/stream_executor/platform/default/dso_loader.cc:64] Could not load dynamic library 'libcudart.so.11.0'; dlerror: libcudart.so.11.0: cannot open shared object file: No such file or directory\n",
      "2023-02-07 21:26:20.334340: I tensorflow/stream_executor/cuda/cudart_stub.cc:29] Ignore above cudart dlerror if you do not have a GPU set up on your machine.\n"
     ]
    }
   ],
   "source": [
    "from tensorflow import keras\n",
    "import tensorflow as tf \n",
    "# Common imports\n",
    "import os\n",
    "\n",
    "from tensorflow.python.keras.models import Sequential\n",
    "from tensorflow.python.keras.layers import Flatten\n",
    "from tensorflow.python.keras.layers import Dense, Dropout\n",
    "from tensorflow.python.keras.layers import Activation\n",
    "from tensorflow.keras.layers import BatchNormalization\n",
    "import matplotlib.pyplot as plt\n",
    "\n",
    "from tensorflow.python.framework import ops\n",
    "from tensorflow.python.keras import backend_config\n",
    "from tensorflow.python.keras.optimizer_v2 import learning_rate_schedule\n",
    "from tensorflow.python.keras.optimizer_v2 import optimizer_v2\n",
    "from tensorflow.python.ops import array_ops\n",
    "from tensorflow.python.ops import control_flow_ops\n",
    "from tensorflow.python.ops import math_ops\n",
    "from tensorflow.python.ops import state_ops\n",
    "from tensorflow.python.ops import variables as tf_variables\n",
    "from tensorflow.python.util.tf_export import keras_export\n",
    "\n",
    "import scipy\n",
    "import numpy as np"
   ]
  },
  {
   "cell_type": "code",
   "execution_count": 2,
   "id": "c45fa9dc",
   "metadata": {},
   "outputs": [
    {
     "name": "stdout",
     "output_type": "stream",
     "text": [
      "Feature matrix: (60000, 28, 28)\n",
      "Target matrix: (10000, 28, 28)\n",
      "Feature matrix: (60000,)\n",
      "Target matrix: (10000,)\n"
     ]
    }
   ],
   "source": [
    "(x_train, y_train), (x_test, y_test) = tf.keras.datasets.mnist.load_data()\n",
    "\n",
    "# Cast the records into float values\n",
    "x_train = x_train.astype('float32')\n",
    "x_test = x_test.astype('float32')\n",
    "  \n",
    "# normalize image pixel values by dividing \n",
    "# by 255\n",
    "gray_scale = 255\n",
    "x_train /= gray_scale\n",
    "x_test /= gray_scale\n",
    "\n",
    "print(\"Feature matrix:\", x_train.shape)\n",
    "print(\"Target matrix:\", x_test.shape)\n",
    "print(\"Feature matrix:\", y_train.shape)\n",
    "print(\"Target matrix:\", y_test.shape)\n"
   ]
  },
  {
   "cell_type": "code",
   "execution_count": 3,
   "id": "abf11198",
   "metadata": {},
   "outputs": [],
   "source": [
    "from Diffgrad_tf import DiffGrad\n",
    "from Yogi_tf import Yogi"
   ]
  },
  {
   "cell_type": "code",
   "execution_count": 4,
   "id": "884b204d",
   "metadata": {},
   "outputs": [
    {
     "name": "stderr",
     "output_type": "stream",
     "text": [
      "2023-02-07 21:26:24.792450: W tensorflow/stream_executor/platform/default/dso_loader.cc:64] Could not load dynamic library 'libcuda.so.1'; dlerror: libcuda.so.1: cannot open shared object file: No such file or directory\n",
      "2023-02-07 21:26:24.792500: W tensorflow/stream_executor/cuda/cuda_driver.cc:269] failed call to cuInit: UNKNOWN ERROR (303)\n",
      "2023-02-07 21:26:24.792535: I tensorflow/stream_executor/cuda/cuda_diagnostics.cc:156] kernel driver does not appear to be running on this host (ruslan-Inspiron-5770): /proc/driver/nvidia/version does not exist\n",
      "2023-02-07 21:26:24.793910: I tensorflow/core/platform/cpu_feature_guard.cc:151] This TensorFlow binary is optimized with oneAPI Deep Neural Network Library (oneDNN) to use the following CPU instructions in performance-critical operations:  AVX2 FMA\n",
      "To enable them in other operations, rebuild TensorFlow with the appropriate compiler flags.\n"
     ]
    },
    {
     "name": "stdout",
     "output_type": "stream",
     "text": [
      "Epoch 1/20\n",
      "24/24 [==============================] - ETA: 0s - loss: 0.8731 - accuracy: 0.7295"
     ]
    },
    {
     "name": "stderr",
     "output_type": "stream",
     "text": [
      "2023-02-07 21:26:24.988889: W tensorflow/core/framework/cpu_allocator_impl.cc:82] Allocation of 150528000 exceeds 10% of free system memory.\n",
      "2023-02-07 21:26:27.752973: W tensorflow/core/framework/cpu_allocator_impl.cc:82] Allocation of 37632000 exceeds 10% of free system memory.\n"
     ]
    },
    {
     "name": "stdout",
     "output_type": "stream",
     "text": [
      "24/24 [==============================] - 3s 75ms/step - loss: 0.8731 - accuracy: 0.7295 - val_loss: 1.1853 - val_accuracy: 0.8016\n",
      "Epoch 2/20\n",
      "24/24 [==============================] - 2s 64ms/step - loss: 0.2948 - accuracy: 0.9128 - val_loss: 0.9926 - val_accuracy: 0.8804\n",
      "Epoch 3/20\n",
      "24/24 [==============================] - 2s 63ms/step - loss: 0.2238 - accuracy: 0.9354 - val_loss: 0.8997 - val_accuracy: 0.8935\n",
      "Epoch 4/20\n",
      "24/24 [==============================] - 2s 65ms/step - loss: 0.1822 - accuracy: 0.9477 - val_loss: 0.7963 - val_accuracy: 0.9022\n",
      "Epoch 5/20\n",
      "24/24 [==============================] - 2s 64ms/step - loss: 0.1562 - accuracy: 0.9547 - val_loss: 0.6745 - val_accuracy: 0.9145\n",
      "Epoch 6/20\n",
      "24/24 [==============================] - 1s 62ms/step - loss: 0.1342 - accuracy: 0.9616 - val_loss: 0.5748 - val_accuracy: 0.9197\n",
      "Epoch 7/20\n",
      "24/24 [==============================] - 2s 64ms/step - loss: 0.1170 - accuracy: 0.9668 - val_loss: 0.4742 - val_accuracy: 0.9329\n",
      "Epoch 8/20\n",
      "24/24 [==============================] - 2s 64ms/step - loss: 0.1028 - accuracy: 0.9715 - val_loss: 0.3860 - val_accuracy: 0.9402\n",
      "Epoch 9/20\n",
      "24/24 [==============================] - 1s 60ms/step - loss: 0.0912 - accuracy: 0.9746 - val_loss: 0.3133 - val_accuracy: 0.9492\n",
      "Epoch 10/20\n",
      "24/24 [==============================] - 2s 64ms/step - loss: 0.0805 - accuracy: 0.9776 - val_loss: 0.2446 - val_accuracy: 0.9573\n",
      "Epoch 11/20\n",
      "24/24 [==============================] - 2s 65ms/step - loss: 0.0729 - accuracy: 0.9790 - val_loss: 0.2038 - val_accuracy: 0.9616\n",
      "Epoch 12/20\n",
      "24/24 [==============================] - 2s 67ms/step - loss: 0.0636 - accuracy: 0.9825 - val_loss: 0.1734 - val_accuracy: 0.9636\n",
      "Epoch 13/20\n",
      "24/24 [==============================] - 1s 59ms/step - loss: 0.0586 - accuracy: 0.9838 - val_loss: 0.1441 - val_accuracy: 0.9679\n",
      "Epoch 14/20\n",
      "24/24 [==============================] - 2s 64ms/step - loss: 0.0532 - accuracy: 0.9853 - val_loss: 0.1207 - val_accuracy: 0.9704\n",
      "Epoch 15/20\n",
      "24/24 [==============================] - 2s 64ms/step - loss: 0.0473 - accuracy: 0.9870 - val_loss: 0.1118 - val_accuracy: 0.9718\n",
      "Epoch 16/20\n",
      "24/24 [==============================] - 1s 62ms/step - loss: 0.0425 - accuracy: 0.9889 - val_loss: 0.1010 - val_accuracy: 0.9735\n",
      "Epoch 17/20\n",
      "24/24 [==============================] - 2s 63ms/step - loss: 0.0381 - accuracy: 0.9903 - val_loss: 0.0934 - val_accuracy: 0.9745\n",
      "Epoch 18/20\n",
      "24/24 [==============================] - 2s 63ms/step - loss: 0.0356 - accuracy: 0.9907 - val_loss: 0.0885 - val_accuracy: 0.9743\n",
      "Epoch 19/20\n",
      "24/24 [==============================] - 2s 66ms/step - loss: 0.0325 - accuracy: 0.9913 - val_loss: 0.0843 - val_accuracy: 0.9749\n",
      "Epoch 20/20\n",
      "24/24 [==============================] - 2s 63ms/step - loss: 0.0297 - accuracy: 0.9924 - val_loss: 0.0822 - val_accuracy: 0.9756\n"
     ]
    }
   ],
   "source": [
    "model = Sequential([\n",
    "    \n",
    "    # reshape 28 row * 28 column data to 28*28 rows\n",
    "    Flatten(input_shape=(28, 28)),\n",
    "    \n",
    "      # dense layer 1\n",
    "    Dense(512, activation='relu'),  \n",
    "    BatchNormalization(),\n",
    "    Dropout(0.2),\n",
    "    # dense layer 2\n",
    "    Dense(128, activation='relu'), \n",
    "    BatchNormalization(),\n",
    "    Dropout(0.2),\n",
    "    # output layer\n",
    "    Dense(10, activation='softmax'),  \n",
    "])\n",
    "\n",
    "optimizer = DiffGrad(learning_rate = 0.001)\n",
    "model.compile(optimizer=optimizer,\n",
    "              loss='sparse_categorical_crossentropy',\n",
    "              metrics=['accuracy'])\n",
    "\n",
    "history = model.fit(x_train, y_train, epochs=20, \n",
    "          batch_size=2000, \n",
    "          validation_split=0.2)"
   ]
  },
  {
   "cell_type": "code",
   "execution_count": null,
   "id": "40f08548",
   "metadata": {},
   "outputs": [],
   "source": []
  }
 ],
 "metadata": {
  "kernelspec": {
   "display_name": "Python 3 (ipykernel)",
   "language": "python",
   "name": "python3"
  },
  "language_info": {
   "codemirror_mode": {
    "name": "ipython",
    "version": 3
   },
   "file_extension": ".py",
   "mimetype": "text/x-python",
   "name": "python",
   "nbconvert_exporter": "python",
   "pygments_lexer": "ipython3",
   "version": "3.9.7"
  }
 },
 "nbformat": 4,
 "nbformat_minor": 5
}
