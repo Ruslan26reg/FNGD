{
 "cells": [
  {
   "cell_type": "code",
   "execution_count": 1,
   "id": "15898d07",
   "metadata": {},
   "outputs": [
    {
     "name": "stderr",
     "output_type": "stream",
     "text": [
      "2023-01-24 00:06:42.830115: W tensorflow/stream_executor/platform/default/dso_loader.cc:64] Could not load dynamic library 'libcudart.so.11.0'; dlerror: libcudart.so.11.0: cannot open shared object file: No such file or directory\n",
      "2023-01-24 00:06:42.830143: I tensorflow/stream_executor/cuda/cudart_stub.cc:29] Ignore above cudart dlerror if you do not have a GPU set up on your machine.\n"
     ]
    }
   ],
   "source": [
    "from tensorflow import keras\n",
    "import tensorflow as tf \n",
    "# Common imports\n",
    "import os\n",
    "\n",
    "from tensorflow.python.keras.models import Sequential\n",
    "from tensorflow.python.keras.layers import Flatten\n",
    "from tensorflow.python.keras.layers import Dense, Dropout\n",
    "from tensorflow.python.keras.layers import Activation\n",
    "from tensorflow.keras.layers import BatchNormalization\n",
    "import matplotlib.pyplot as plt\n",
    "\n",
    "from tensorflow.python.framework import ops\n",
    "from tensorflow.python.keras import backend_config\n",
    "from tensorflow.python.keras.optimizer_v2 import learning_rate_schedule\n",
    "from tensorflow.python.keras.optimizer_v2 import optimizer_v2\n",
    "from tensorflow.python.ops import array_ops\n",
    "from tensorflow.python.ops import control_flow_ops\n",
    "from tensorflow.python.ops import math_ops\n",
    "from tensorflow.python.ops import state_ops\n",
    "from tensorflow.python.ops import variables as tf_variables\n",
    "from tensorflow.python.util.tf_export import keras_export\n",
    "\n",
    "import scipy\n",
    "import numpy as np"
   ]
  },
  {
   "cell_type": "code",
   "execution_count": 9,
   "id": "c45fa9dc",
   "metadata": {},
   "outputs": [
    {
     "name": "stdout",
     "output_type": "stream",
     "text": [
      "Feature matrix: (60000, 28, 28)\n",
      "Target matrix: (10000, 28, 28)\n",
      "Feature matrix: (60000,)\n",
      "Target matrix: (10000,)\n"
     ]
    }
   ],
   "source": [
    "(x_train, y_train), (x_test, y_test) = tf.keras.datasets.mnist.load_data()\n",
    "\n",
    "# Cast the records into float values\n",
    "x_train = x_train.astype('float32')\n",
    "x_test = x_test.astype('float32')\n",
    "  \n",
    "# normalize image pixel values by dividing \n",
    "# by 255\n",
    "gray_scale = 255\n",
    "x_train /= gray_scale\n",
    "x_test /= gray_scale\n",
    "\n",
    "print(\"Feature matrix:\", x_train.shape)\n",
    "print(\"Target matrix:\", x_test.shape)\n",
    "print(\"Feature matrix:\", y_train.shape)\n",
    "print(\"Target matrix:\", y_test.shape)\n"
   ]
  },
  {
   "cell_type": "code",
   "execution_count": 10,
   "id": "abf11198",
   "metadata": {},
   "outputs": [],
   "source": [
    "from Diffgrad_tf import DiffGrad\n",
    "from Yogi_tf import Yogi"
   ]
  },
  {
   "cell_type": "code",
   "execution_count": 11,
   "id": "884b204d",
   "metadata": {},
   "outputs": [
    {
     "name": "stderr",
     "output_type": "stream",
     "text": [
      "2023-01-24 00:06:45.479983: W tensorflow/stream_executor/platform/default/dso_loader.cc:64] Could not load dynamic library 'libcuda.so.1'; dlerror: libcuda.so.1: cannot open shared object file: No such file or directory\n",
      "2023-01-24 00:06:45.480025: W tensorflow/stream_executor/cuda/cuda_driver.cc:269] failed call to cuInit: UNKNOWN ERROR (303)\n",
      "2023-01-24 00:06:45.480053: I tensorflow/stream_executor/cuda/cuda_diagnostics.cc:156] kernel driver does not appear to be running on this host (ruslan-Inspiron-5770): /proc/driver/nvidia/version does not exist\n",
      "2023-01-24 00:06:45.480417: I tensorflow/core/platform/cpu_feature_guard.cc:151] This TensorFlow binary is optimized with oneAPI Deep Neural Network Library (oneDNN) to use the following CPU instructions in performance-critical operations:  AVX2 FMA\n",
      "To enable them in other operations, rebuild TensorFlow with the appropriate compiler flags.\n",
      "2023-01-24 00:06:45.684547: W tensorflow/core/framework/cpu_allocator_impl.cc:82] Allocation of 150528000 exceeds 10% of free system memory.\n"
     ]
    },
    {
     "name": "stdout",
     "output_type": "stream",
     "text": [
      "Epoch 1/20\n",
      "24/24 [==============================] - 3s 84ms/step - loss: 0.5861 - accuracy: 0.8257 - val_loss: 1.0701 - val_accuracy: 0.9122\n",
      "Epoch 2/20\n",
      "24/24 [==============================] - 2s 73ms/step - loss: 0.2261 - accuracy: 0.9309 - val_loss: 0.3430 - val_accuracy: 0.9428\n",
      "Epoch 3/20\n",
      "24/24 [==============================] - 2s 70ms/step - loss: 0.1751 - accuracy: 0.9461 - val_loss: 0.2342 - val_accuracy: 0.9466\n",
      "Epoch 4/20\n",
      "24/24 [==============================] - 1s 62ms/step - loss: 0.1416 - accuracy: 0.9563 - val_loss: 0.1501 - val_accuracy: 0.9624\n",
      "Epoch 5/20\n",
      "24/24 [==============================] - 2s 70ms/step - loss: 0.1170 - accuracy: 0.9622 - val_loss: 0.1359 - val_accuracy: 0.9635\n",
      "Epoch 6/20\n",
      "24/24 [==============================] - 2s 85ms/step - loss: 0.1007 - accuracy: 0.9677 - val_loss: 0.1223 - val_accuracy: 0.9659\n",
      "Epoch 7/20\n",
      "24/24 [==============================] - 2s 88ms/step - loss: 0.0904 - accuracy: 0.9707 - val_loss: 0.1211 - val_accuracy: 0.9658\n",
      "Epoch 8/20\n",
      "24/24 [==============================] - 1s 52ms/step - loss: 0.0817 - accuracy: 0.9745 - val_loss: 0.1117 - val_accuracy: 0.9687\n",
      "Epoch 9/20\n",
      "24/24 [==============================] - 1s 55ms/step - loss: 0.0721 - accuracy: 0.9769 - val_loss: 0.0971 - val_accuracy: 0.9716\n",
      "Epoch 10/20\n",
      "24/24 [==============================] - 1s 52ms/step - loss: 0.0655 - accuracy: 0.9786 - val_loss: 0.1195 - val_accuracy: 0.9703\n",
      "Epoch 11/20\n",
      "24/24 [==============================] - 2s 85ms/step - loss: 0.0594 - accuracy: 0.9805 - val_loss: 0.1083 - val_accuracy: 0.9708\n",
      "Epoch 12/20\n",
      "24/24 [==============================] - 2s 68ms/step - loss: 0.0562 - accuracy: 0.9807 - val_loss: 0.1023 - val_accuracy: 0.9733\n",
      "Epoch 13/20\n",
      "24/24 [==============================] - 2s 66ms/step - loss: 0.0514 - accuracy: 0.9829 - val_loss: 0.1038 - val_accuracy: 0.9723\n",
      "Epoch 14/20\n",
      "24/24 [==============================] - 1s 61ms/step - loss: 0.0476 - accuracy: 0.9841 - val_loss: 0.1106 - val_accuracy: 0.9712\n",
      "Epoch 15/20\n",
      "24/24 [==============================] - 1s 60ms/step - loss: 0.0449 - accuracy: 0.9849 - val_loss: 0.0919 - val_accuracy: 0.9770\n",
      "Epoch 16/20\n",
      "24/24 [==============================] - 1s 61ms/step - loss: 0.0403 - accuracy: 0.9863 - val_loss: 0.1159 - val_accuracy: 0.9712\n",
      "Epoch 17/20\n",
      "24/24 [==============================] - 1s 59ms/step - loss: 0.0391 - accuracy: 0.9872 - val_loss: 0.1078 - val_accuracy: 0.9740\n",
      "Epoch 18/20\n",
      "24/24 [==============================] - 1s 59ms/step - loss: 0.0359 - accuracy: 0.9881 - val_loss: 0.1003 - val_accuracy: 0.9744\n",
      "Epoch 19/20\n",
      "24/24 [==============================] - 1s 62ms/step - loss: 0.0384 - accuracy: 0.9874 - val_loss: 0.0996 - val_accuracy: 0.9781\n",
      "Epoch 20/20\n",
      "24/24 [==============================] - 1s 58ms/step - loss: 0.0358 - accuracy: 0.9876 - val_loss: 0.1035 - val_accuracy: 0.9754\n"
     ]
    }
   ],
   "source": [
    "model = Sequential([\n",
    "    \n",
    "    # reshape 28 row * 28 column data to 28*28 rows\n",
    "    Flatten(input_shape=(28, 28)),\n",
    "    \n",
    "      # dense layer 1\n",
    "    Dense(512, activation='relu'),  \n",
    "    BatchNormalization(),\n",
    "    Dropout(0.2),\n",
    "    # dense layer 2\n",
    "    Dense(128, activation='relu'), \n",
    "    BatchNormalization(),\n",
    "    Dropout(0.2),\n",
    "    # output layer\n",
    "    Dense(10, activation='softmax'),  \n",
    "])\n",
    "\n",
    "optimizer = Yogi(learning_rate = 0.001)\n",
    "model.compile(optimizer=optimizer,\n",
    "              loss='sparse_categorical_crossentropy',\n",
    "              metrics=['accuracy'])\n",
    "\n",
    "history = model.fit(x_train, y_train, epochs=20, \n",
    "          batch_size=2000, \n",
    "          validation_split=0.2)"
   ]
  },
  {
   "cell_type": "code",
   "execution_count": null,
   "id": "40f08548",
   "metadata": {},
   "outputs": [],
   "source": []
  }
 ],
 "metadata": {
  "kernelspec": {
   "display_name": "Python 3 (ipykernel)",
   "language": "python",
   "name": "python3"
  },
  "language_info": {
   "codemirror_mode": {
    "name": "ipython",
    "version": 3
   },
   "file_extension": ".py",
   "mimetype": "text/x-python",
   "name": "python",
   "nbconvert_exporter": "python",
   "pygments_lexer": "ipython3",
   "version": "3.9.7"
  }
 },
 "nbformat": 4,
 "nbformat_minor": 5
}
